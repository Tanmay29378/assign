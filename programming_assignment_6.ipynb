{
 "cells": [
  {
   "cell_type": "markdown",
   "id": "93d14478",
   "metadata": {},
   "source": [
    "# 1. Write a Python Program to Display Fibonacci Sequence Using Recursion?"
   ]
  },
  {
   "cell_type": "code",
   "execution_count": 1,
   "id": "51ffafab",
   "metadata": {},
   "outputs": [
    {
     "name": "stdout",
     "output_type": "stream",
     "text": [
      "enter the range of fibonacci no. 10\n",
      "0\n",
      "1\n",
      "1\n",
      "2\n",
      "3\n",
      "5\n",
      "8\n",
      "13\n",
      "21\n",
      "34\n"
     ]
    }
   ],
   "source": [
    "def fib(n):\n",
    "    if n == 0:\n",
    "        res = 0\n",
    "    elif n== 1:\n",
    "        res = 1\n",
    "    else:\n",
    "        res = fib(n-2)+fib(n-1)\n",
    "    return res\n",
    "\n",
    "ip = int(input(\"enter the range of fibonacci no. \"))\n",
    "for i in range(ip):\n",
    "    print(fib(i))\n"
   ]
  },
  {
   "cell_type": "markdown",
   "id": "fe44547d",
   "metadata": {},
   "source": [
    "# 2. Write a Python Program to Find Factorial of Number Using Recursion?"
   ]
  },
  {
   "cell_type": "code",
   "execution_count": 23,
   "id": "56a5e581",
   "metadata": {},
   "outputs": [],
   "source": [
    "def fact(n):\n",
    "    if n>=0:\n",
    "        if n==0:\n",
    "            res = 1\n",
    "        elif n == 1:\n",
    "            res = 1\n",
    "        else:\n",
    "            res = n*fact(n-1)\n",
    "        return res"
   ]
  },
  {
   "cell_type": "code",
   "execution_count": 28,
   "id": "c0a58aa8",
   "metadata": {},
   "outputs": [
    {
     "data": {
      "text/plain": [
       "3628800"
      ]
     },
     "execution_count": 28,
     "metadata": {},
     "output_type": "execute_result"
    }
   ],
   "source": [
    "fact(10)"
   ]
  },
  {
   "cell_type": "markdown",
   "id": "fbfb6a1a",
   "metadata": {},
   "source": [
    "# 3. Write a Python Program to calculate your Body Mass Index?"
   ]
  },
  {
   "cell_type": "code",
   "execution_count": 1,
   "id": "f19961be",
   "metadata": {},
   "outputs": [],
   "source": [
    "def bmi(w,h):\n",
    "    weight = w\n",
    "    height = h\n",
    "    bmi = weight/(height*height)\n",
    "    if bmi>0:\n",
    "        if bmi<18.5:\n",
    "            print(f\"your bmi is {bmi}... you are underweight\")\n",
    "        elif bmi<25:\n",
    "            print(f\"your bmi is {bmi}... you are normal weight\")\n",
    "        elif bmi<30:\n",
    "            print(f\"your bmi is {bmi}... you are overweight\")\n",
    "        else:\n",
    "            print(f\"your bmi is {bmi}... you are very overweight\")\n",
    "    \n",
    "    "
   ]
  },
  {
   "cell_type": "code",
   "execution_count": 2,
   "id": "1c90e726",
   "metadata": {},
   "outputs": [
    {
     "name": "stdout",
     "output_type": "stream",
     "text": [
      "enter the weight in kg : 81\n",
      "enter the height in meters : 1.81\n",
      "your bmi is 24.724520008546747... you are normal weight\n"
     ]
    }
   ],
   "source": [
    "w = float(input('enter the weight in kg : '))\n",
    "h = float(input('enter the height in meters : '))\n",
    "bmi(w,h)"
   ]
  },
  {
   "cell_type": "markdown",
   "id": "69298450",
   "metadata": {},
   "source": [
    "# 4. Write a Python Program to calculate the natural logarithm of any number?"
   ]
  },
  {
   "cell_type": "code",
   "execution_count": 3,
   "id": "3d903d04",
   "metadata": {},
   "outputs": [],
   "source": [
    "import math\n",
    "def log(n):\n",
    "    return(math.log(n))"
   ]
  },
  {
   "cell_type": "code",
   "execution_count": 5,
   "id": "3da55335",
   "metadata": {},
   "outputs": [
    {
     "data": {
      "text/plain": [
       "2.302585092994046"
      ]
     },
     "execution_count": 5,
     "metadata": {},
     "output_type": "execute_result"
    }
   ],
   "source": [
    "log(10)"
   ]
  },
  {
   "cell_type": "code",
   "execution_count": null,
   "id": "64fd612d",
   "metadata": {},
   "outputs": [],
   "source": [
    "5. Write a Python Program for cube sum of first n natural numbers?"
   ]
  },
  {
   "cell_type": "code",
   "execution_count": 6,
   "id": "54f291e1",
   "metadata": {},
   "outputs": [],
   "source": [
    "def cube_sum(n):\n",
    "    result = 0\n",
    "    for i in range(1,n+1):\n",
    "        cube = i**3\n",
    "        result = result + cube\n",
    "    return result"
   ]
  },
  {
   "cell_type": "code",
   "execution_count": 8,
   "id": "26bcfc9f",
   "metadata": {},
   "outputs": [
    {
     "data": {
      "text/plain": [
       "100"
      ]
     },
     "execution_count": 8,
     "metadata": {},
     "output_type": "execute_result"
    }
   ],
   "source": [
    "cube_sum(4)"
   ]
  },
  {
   "cell_type": "code",
   "execution_count": null,
   "id": "c06f6932",
   "metadata": {},
   "outputs": [],
   "source": []
  }
 ],
 "metadata": {
  "kernelspec": {
   "display_name": "Python 3",
   "language": "python",
   "name": "python3"
  },
  "language_info": {
   "codemirror_mode": {
    "name": "ipython",
    "version": 3
   },
   "file_extension": ".py",
   "mimetype": "text/x-python",
   "name": "python",
   "nbconvert_exporter": "python",
   "pygments_lexer": "ipython3",
   "version": "3.8.8"
  }
 },
 "nbformat": 4,
 "nbformat_minor": 5
}
