{
 "cells": [
  {
   "cell_type": "markdown",
   "id": "34d95b58",
   "metadata": {},
   "source": [
    "# 1. Write a Python Program to Find LCM?\n"
   ]
  },
  {
   "cell_type": "code",
   "execution_count": 1,
   "id": "8a0daeb0",
   "metadata": {},
   "outputs": [],
   "source": [
    "def lcm(x,y):\n",
    "    if x>y:\n",
    "        large=x\n",
    "    else:\n",
    "        large=y\n",
    "    while(True):\n",
    "        if large%x==0 and large%y==0:\n",
    "            lcm=large\n",
    "            break\n",
    "        large += 1\n",
    "    return lcm\n"
   ]
  },
  {
   "cell_type": "code",
   "execution_count": 2,
   "id": "e7c81b2c",
   "metadata": {},
   "outputs": [
    {
     "data": {
      "text/plain": [
       "20"
      ]
     },
     "execution_count": 2,
     "metadata": {},
     "output_type": "execute_result"
    }
   ],
   "source": [
    "lcm(4,5)"
   ]
  },
  {
   "cell_type": "markdown",
   "id": "eceea397",
   "metadata": {},
   "source": [
    "\n",
    "# 2. Write a Python Program to Find HCF?\n"
   ]
  },
  {
   "cell_type": "code",
   "execution_count": 10,
   "id": "203bb5fd",
   "metadata": {},
   "outputs": [],
   "source": [
    "def hcf(x,y):\n",
    "    if x<y:\n",
    "        small=x\n",
    "    else:\n",
    "        small=y\n",
    "    for i in range(small,2,-1):\n",
    "        if x % i==0 and y % i==0:\n",
    "            hcf = i\n",
    "            break\n",
    "    return hcf"
   ]
  },
  {
   "cell_type": "code",
   "execution_count": 13,
   "id": "b930df5d",
   "metadata": {},
   "outputs": [
    {
     "data": {
      "text/plain": [
       "141"
      ]
     },
     "execution_count": 13,
     "metadata": {},
     "output_type": "execute_result"
    }
   ],
   "source": [
    "hcf(6063,5217)"
   ]
  },
  {
   "cell_type": "markdown",
   "id": "b959ab4e",
   "metadata": {},
   "source": [
    "# 3. Write a Python Program to Convert Decimal to Binary, Octal and Hexadecimal?\n"
   ]
  },
  {
   "cell_type": "code",
   "execution_count": 68,
   "id": "7ad08a8a",
   "metadata": {},
   "outputs": [],
   "source": [
    "def bin_conv(x):\n",
    "    num = x\n",
    "    binary  = []\n",
    "    hexa = []\n",
    "    while(num >= 1):\n",
    "        binary.append(num%2)\n",
    "        num = num//2\n",
    "\n",
    "    binary = binary[::-1]\n",
    "    print('binary conversion :' + \"\".join(str(i) for i in binary))\n",
    "    \n",
    "     \n",
    "def octal_conv(x):\n",
    "    num = x\n",
    "    octal= []\n",
    "    while(num >=1 ):\n",
    "        octal.append(num%8)\n",
    "        num = num//8\n",
    "    octal = octal[::-1]\n",
    "    print('octal conversion: ' + \"\".join(str(j) for j in octal))\n",
    "    \n",
    "def hexa_conv(x):\n",
    "    conversion_table = {0:'0',1:'1',2:'2',3:'3',4:'4',5:'5',6:'6',7:'7',8:'8',9:'9',\n",
    "                        10:'A',11:'B',12:'C',13:'D',14:'E',15:'F'}\n",
    "    num = x\n",
    "    hexa = []\n",
    "    while(num>=1):\n",
    "        hexa.append(conversion_table[num%16])\n",
    "        num = num//16\n",
    "    hexa = hexa[::-1]\n",
    "    print(\"hexadecimal conversion :\" + \"\".join(str(k) for k in hexa))"
   ]
  },
  {
   "cell_type": "code",
   "execution_count": 69,
   "id": "4f956937",
   "metadata": {},
   "outputs": [
    {
     "name": "stdout",
     "output_type": "stream",
     "text": [
      "binary conversion :11010100\n",
      "octal conversion: 324\n",
      "hexadecimal conversion :D4\n"
     ]
    }
   ],
   "source": [
    "bin_conv(212)\n",
    "octal_conv(212)\n",
    "hexa_conv(212)"
   ]
  },
  {
   "cell_type": "markdown",
   "id": "964907ba",
   "metadata": {},
   "source": [
    "# 4. Write a Python Program To Find ASCII value of a character?"
   ]
  },
  {
   "cell_type": "code",
   "execution_count": 102,
   "id": "2d4ca355",
   "metadata": {},
   "outputs": [],
   "source": [
    "def asci(x):\n",
    "    result = ord(x)\n",
    "    print('the ASCII value of {} is {}'.format(x,result))"
   ]
  },
  {
   "cell_type": "code",
   "execution_count": 103,
   "id": "d1708f7a",
   "metadata": {},
   "outputs": [
    {
     "name": "stdout",
     "output_type": "stream",
     "text": [
      "the ASCII value of a is 97\n"
     ]
    }
   ],
   "source": [
    "asci('a')"
   ]
  },
  {
   "cell_type": "markdown",
   "id": "130dd374",
   "metadata": {},
   "source": [
    "# 5. Write a Python Program to Make a Simple Calculator with 4 basic mathematical operations?"
   ]
  },
  {
   "cell_type": "code",
   "execution_count": 117,
   "id": "25cb4e59",
   "metadata": {},
   "outputs": [
    {
     "name": "stdout",
     "output_type": "stream",
     "text": [
      "enter the first number :100\n",
      "enter the second number :10\n",
      "enter the operator :/\n",
      "10.0\n"
     ]
    }
   ],
   "source": [
    "x = int(input('enter the first number :'))\n",
    "y = int(input('enter the second number :'))\n",
    "op = input('enter the operator :')\n",
    "if op == '+':\n",
    "    result = x+y\n",
    "        \n",
    "elif op == '-':\n",
    "    result = x-y\n",
    "        \n",
    "elif op == '*':\n",
    "    result = x*y\n",
    "        \n",
    "elif op == '/':\n",
    "    result = x/y\n",
    "\n",
    "print(result)"
   ]
  },
  {
   "cell_type": "code",
   "execution_count": null,
   "id": "5bba3416",
   "metadata": {},
   "outputs": [],
   "source": []
  },
  {
   "cell_type": "code",
   "execution_count": null,
   "id": "850e33cd",
   "metadata": {},
   "outputs": [],
   "source": []
  },
  {
   "cell_type": "code",
   "execution_count": null,
   "id": "b2871a06",
   "metadata": {},
   "outputs": [],
   "source": []
  }
 ],
 "metadata": {
  "kernelspec": {
   "display_name": "Python 3",
   "language": "python",
   "name": "python3"
  },
  "language_info": {
   "codemirror_mode": {
    "name": "ipython",
    "version": 3
   },
   "file_extension": ".py",
   "mimetype": "text/x-python",
   "name": "python",
   "nbconvert_exporter": "python",
   "pygments_lexer": "ipython3",
   "version": "3.8.8"
  }
 },
 "nbformat": 4,
 "nbformat_minor": 5
}
