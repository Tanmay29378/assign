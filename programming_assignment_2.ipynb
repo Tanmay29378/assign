{
 "cells": [
  {
   "cell_type": "raw",
   "id": "72e4b6be",
   "metadata": {},
   "source": [
    "1. Write a Python program to convert kilometers to miles?"
   ]
  },
  {
   "cell_type": "code",
   "execution_count": 3,
   "id": "e7201ebd",
   "metadata": {},
   "outputs": [
    {
     "name": "stdout",
     "output_type": "stream",
     "text": [
      "enter the kilometers:- 1\n",
      "1 kilometers in miles is  0.621\n"
     ]
    }
   ],
   "source": [
    "a = int(input(\"enter the kilometers:- \"))\n",
    "miles = a * 0.621\n",
    "print(\"%i kilometers in miles is \" %a , miles)"
   ]
  },
  {
   "cell_type": "raw",
   "id": "14fd5166",
   "metadata": {},
   "source": [
    "2. Write a Python program to convert Celsius to Fahrenheit?"
   ]
  },
  {
   "cell_type": "code",
   "execution_count": 8,
   "id": "eba01e39",
   "metadata": {},
   "outputs": [
    {
     "name": "stdout",
     "output_type": "stream",
     "text": [
      "enter the celsius:- 5\n",
      "169.0 fahrenheit\n"
     ]
    }
   ],
   "source": [
    "a = int(input(\"enter the celsius:- \"))\n",
    "fah = a*33.8\n",
    "print(fah,\"fahrenheit\")"
   ]
  },
  {
   "cell_type": "raw",
   "id": "fbfe188c",
   "metadata": {},
   "source": [
    "3. Write a Python program to display calendar?"
   ]
  },
  {
   "cell_type": "code",
   "execution_count": 10,
   "id": "f404401e",
   "metadata": {},
   "outputs": [
    {
     "name": "stdout",
     "output_type": "stream",
     "text": [
      "enter the year2022\n",
      "enter the month8\n",
      "    August 2022\n",
      "Mo Tu We Th Fr Sa Su\n",
      " 1  2  3  4  5  6  7\n",
      " 8  9 10 11 12 13 14\n",
      "15 16 17 18 19 20 21\n",
      "22 23 24 25 26 27 28\n",
      "29 30 31\n",
      "\n"
     ]
    }
   ],
   "source": [
    "import calendar\n",
    "\n",
    "yy = int(input(\"enter the year\"))\n",
    "mm = int(input(\"enter the month\"))\n",
    "print(calendar.month(yy, mm))"
   ]
  },
  {
   "cell_type": "raw",
   "id": "a9c1eb4a",
   "metadata": {},
   "source": [
    "4. Write a Python program to solve quadratic equation?"
   ]
  },
  {
   "cell_type": "code",
   "execution_count": 13,
   "id": "eecc2c7c",
   "metadata": {},
   "outputs": [
    {
     "name": "stdout",
     "output_type": "stream",
     "text": [
      "enter a:- 1\n",
      "enter b:- 5\n",
      "enter c:- 6\n",
      "roots for the equations are  (-4.5+0j) (-5.5+0j)\n"
     ]
    }
   ],
   "source": [
    "import cmath\n",
    "\n",
    "a = int(input(\"enter a:- \"))\n",
    "b = int(input(\"enter b:- \"))\n",
    "c = int(input(\"enter c:- \"))\n",
    "\n",
    "dis = b**2-4*a*c\n",
    "\n",
    "r1 = (-b+cmath.sqrt(dis)/2*a)\n",
    "r2 = (-b-cmath.sqrt(dis)/2*a)\n",
    "\n",
    "print(\"roots for the equations are \",r1,r2)"
   ]
  },
  {
   "cell_type": "raw",
   "id": "237c6dcb",
   "metadata": {},
   "source": [
    "5. Write a Python program to swap two variables without temp variable?"
   ]
  },
  {
   "cell_type": "code",
   "execution_count": 14,
   "id": "e010499a",
   "metadata": {},
   "outputs": [],
   "source": [
    "a = 10\n",
    "b = 20\n",
    "a,b = (b,a)"
   ]
  },
  {
   "cell_type": "code",
   "execution_count": 15,
   "id": "0bc86ce8",
   "metadata": {},
   "outputs": [
    {
     "data": {
      "text/plain": [
       "20"
      ]
     },
     "execution_count": 15,
     "metadata": {},
     "output_type": "execute_result"
    }
   ],
   "source": [
    "a\n"
   ]
  },
  {
   "cell_type": "code",
   "execution_count": 16,
   "id": "46346eb8",
   "metadata": {},
   "outputs": [
    {
     "data": {
      "text/plain": [
       "10"
      ]
     },
     "execution_count": 16,
     "metadata": {},
     "output_type": "execute_result"
    }
   ],
   "source": [
    "b"
   ]
  },
  {
   "cell_type": "code",
   "execution_count": null,
   "id": "fa99fd32",
   "metadata": {},
   "outputs": [],
   "source": []
  }
 ],
 "metadata": {
  "kernelspec": {
   "display_name": "Python 3",
   "language": "python",
   "name": "python3"
  },
  "language_info": {
   "codemirror_mode": {
    "name": "ipython",
    "version": 3
   },
   "file_extension": ".py",
   "mimetype": "text/x-python",
   "name": "python",
   "nbconvert_exporter": "python",
   "pygments_lexer": "ipython3",
   "version": "3.8.8"
  }
 },
 "nbformat": 4,
 "nbformat_minor": 5
}
