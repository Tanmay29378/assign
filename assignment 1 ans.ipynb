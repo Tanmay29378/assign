{
 "cells": [
  {
   "cell_type": "code",
   "execution_count": null,
   "id": "c30f75d2",
   "metadata": {},
   "outputs": [],
   "source": [
    "1. In the below elements which of them are values or an expression? eg:- values can be\n",
    "integer or string and expressions will be mathematical operators.\n",
    "*\n",
    "'hello'\n",
    "-87.8\n",
    "-\n",
    "/\n",
    "+\n",
    "6"
   ]
  },
  {
   "cell_type": "code",
   "execution_count": null,
   "id": "93db18cc",
   "metadata": {},
   "outputs": [],
   "source": [
    "ANSWERS :- * , 'hello' , -87.8 , and 6 are values.... whereas - , / , + are expressions"
   ]
  },
  {
   "cell_type": "code",
   "execution_count": null,
   "id": "df57c174",
   "metadata": {},
   "outputs": [],
   "source": [
    "2. What is the difference between string and variable?"
   ]
  },
  {
   "cell_type": "code",
   "execution_count": null,
   "id": "167ec3fd",
   "metadata": {},
   "outputs": [],
   "source": [
    "ANSWERS:- string is a group of characters .it is a value representing text\n",
    "        whereas variable is used to store values .it is a name that can refer to any value(integer,string,float,character)"
   ]
  },
  {
   "cell_type": "code",
   "execution_count": null,
   "id": "98f89cc1",
   "metadata": {},
   "outputs": [],
   "source": [
    "3. Describe three different data types."
   ]
  },
  {
   "cell_type": "code",
   "execution_count": null,
   "id": "6f7357cb",
   "metadata": {},
   "outputs": [],
   "source": [
    "ANSWERS :- int : int basically consists of numbers and particularly integers.\n",
    "        float : FLOAT refers to decimal numbers\n",
    "        str : an str type of variable keeps data as a text string."
   ]
  },
  {
   "cell_type": "code",
   "execution_count": null,
   "id": "c03f9679",
   "metadata": {},
   "outputs": [],
   "source": [
    "4. What is an expression made up of? What do all expressions do?"
   ]
  },
  {
   "cell_type": "code",
   "execution_count": null,
   "id": "300a3760",
   "metadata": {},
   "outputs": [],
   "source": [
    "ANSWER :- expression basically is a combination of symbols like operators , variable and constant\n",
    "           example:- a+b-8 \n",
    "          expression basically is something that gives value and can be printed out"
   ]
  },
  {
   "cell_type": "code",
   "execution_count": null,
   "id": "5927c5c7",
   "metadata": {},
   "outputs": [],
   "source": [
    "5. This assignment statements, like spam = 10. What is the difference between an\n",
    "expression and a statement?"
   ]
  },
  {
   "cell_type": "code",
   "execution_count": null,
   "id": "6a16f76d",
   "metadata": {},
   "outputs": [],
   "source": [
    "answer:- statements are basically used to give instruction to the interpretor example like assignment statement,for,while,def\n",
    "         if,else and so on are the statements.....\n",
    "        expression is basically something which gives us the value like print(spam) now this will return us the value 10"
   ]
  },
  {
   "cell_type": "code",
   "execution_count": null,
   "id": "e7d11317",
   "metadata": {},
   "outputs": [],
   "source": [
    "6. After running the following code, what does the variable bacon contain?\n",
    "bacon = 22\n",
    "bacon + 1"
   ]
  },
  {
   "cell_type": "code",
   "execution_count": null,
   "id": "571ada7c",
   "metadata": {},
   "outputs": [],
   "source": [
    "answer:- bacon will contain 23"
   ]
  },
  {
   "cell_type": "code",
   "execution_count": 1,
   "id": "c29c3e5d",
   "metadata": {},
   "outputs": [
    {
     "data": {
      "text/plain": [
       "'spamspamspam'"
      ]
     },
     "execution_count": 1,
     "metadata": {},
     "output_type": "execute_result"
    }
   ],
   "source": [
    "7. What should the values of the following two terms be?\n",
    "'spam' + 'spamspam'\n",
    "'spam' * 3"
   ]
  },
  {
   "cell_type": "code",
   "execution_count": null,
   "id": "4b1d5ec6",
   "metadata": {},
   "outputs": [],
   "source": [
    "answer:- Both will return 'spamspamspam'"
   ]
  },
  {
   "cell_type": "code",
   "execution_count": null,
   "id": "943ce549",
   "metadata": {},
   "outputs": [],
   "source": [
    "8. Why is eggs a valid variable name while 100 is invalid?"
   ]
  },
  {
   "cell_type": "code",
   "execution_count": null,
   "id": "29fbe333",
   "metadata": {},
   "outputs": [],
   "source": [
    "anser:- because variable names should not begin with numbers if we want to write then we should begin with any character like\n",
    "        a100 or something"
   ]
  },
  {
   "cell_type": "code",
   "execution_count": null,
   "id": "396de5da",
   "metadata": {},
   "outputs": [],
   "source": [
    "9. What three functions can be used to get the integer, floating-point number, or string\n",
    "version of a value?"
   ]
  },
  {
   "cell_type": "code",
   "execution_count": null,
   "id": "ce029818",
   "metadata": {},
   "outputs": [],
   "source": [
    "\n",
    "answer:- int() , float() , str()"
   ]
  },
  {
   "cell_type": "code",
   "execution_count": null,
   "id": "fbb454c7",
   "metadata": {},
   "outputs": [],
   "source": [
    "10. Why does this expression cause an error? How can you fix it?\n",
    "'I have eaten ' + 99 + ' burritos.'"
   ]
  },
  {
   "cell_type": "code",
   "execution_count": null,
   "id": "210b9231",
   "metadata": {},
   "outputs": [],
   "source": [
    "Answer:- because we can concatenate string with integer. this can be fixed by\n",
    "       \n",
    "         'I have eaten ' + '99' + ' burritos.'"
   ]
  }
 ],
 "metadata": {
  "kernelspec": {
   "display_name": "Python 3",
   "language": "python",
   "name": "python3"
  },
  "language_info": {
   "codemirror_mode": {
    "name": "ipython",
    "version": 3
   },
   "file_extension": ".py",
   "mimetype": "text/x-python",
   "name": "python",
   "nbconvert_exporter": "python",
   "pygments_lexer": "ipython3",
   "version": "3.8.8"
  }
 },
 "nbformat": 4,
 "nbformat_minor": 5
}
